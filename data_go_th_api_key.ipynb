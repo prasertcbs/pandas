{
 "cells": [
  {
   "cell_type": "markdown",
   "metadata": {},
   "source": [
    "# data.go.th: Data API\n",
    "\n",
    "web: https://opendata.data.go.th/\n"
   ]
  },
  {
   "cell_type": "markdown",
   "metadata": {},
   "source": [
    "---\n",
    "* author:  [Prasert Kanawattanachai](prasert.k@chula.ac.th)\n",
    "* YouTube: https://www.youtube.com/prasertcbs\n",
    "* github: https://github.com/prasertcbs/\n",
    "* kaggle: https://www.kaggle.com/prasertk/\n",
    "* [Chulalongkorn Business School](https://www.cbs.chula.ac.th/en/)\n",
    "---\n"
   ]
  },
  {
   "cell_type": "code",
   "execution_count": 1,
   "metadata": {},
   "outputs": [],
   "source": [
    "import pandas as pd\n",
    "import requests\n"
   ]
  },
  {
   "cell_type": "code",
   "execution_count": 2,
   "metadata": {
    "colab": {
     "base_uri": "https://localhost:8080/",
     "height": 64
    },
    "colab_type": "code",
    "id": "fdr0pYIf7P-_",
    "outputId": "c919deae-c99b-44b0-8924-4d2355ca0b63"
   },
   "outputs": [
    {
     "name": "stdout",
     "output_type": "stream",
     "text": [
      "pandas version:  1.4.2\n",
      "requests version: 2.28.0\n"
     ]
    },
    {
     "data": {
      "text/plain": [
       "Timestamp('2022-07-12 19:44:50.631955')"
      ]
     },
     "execution_count": 2,
     "metadata": {},
     "output_type": "execute_result"
    }
   ],
   "source": [
    "print(f\"pandas version:  {pd.__version__}\")\n",
    "print(f\"requests version: {requests.__version__}\")\n",
    "\n",
    "pd.Timestamp.now()\n",
    "# pd.Timestamp.now().strftime('%Y-%m-%d')\n"
   ]
  },
  {
   "cell_type": "markdown",
   "metadata": {},
   "source": [
    "## Data API\n"
   ]
  },
  {
   "cell_type": "code",
   "execution_count": 3,
   "metadata": {},
   "outputs": [],
   "source": [
    "from getpass import getpass\n",
    "api_key = getpass()"
   ]
  },
  {
   "cell_type": "markdown",
   "metadata": {},
   "source": [
    "- ข้อมูลโรงแรมที่เป็นมิตรกับสิ่งแวดล้อม (Green Hotel)\n",
    "  * https://opendata.data.go.th/dataset/db0103-002\n",
    "  * https://opend.data.go.th/get-ckan/datastore_search?resource_id=d13e3be5-9020-4a78-9a7e-760b2dcbf6be&limit=5\n",
    "- จำนวนคนทำงานในที่พักแรม\n",
    "  * https://opendata.data.go.th/dataset/os_17_00010"
   ]
  },
  {
   "cell_type": "code",
   "execution_count": 4,
   "metadata": {},
   "outputs": [
    {
     "data": {
      "text/html": [
       "<div>\n",
       "<style scoped>\n",
       "    .dataframe tbody tr th:only-of-type {\n",
       "        vertical-align: middle;\n",
       "    }\n",
       "\n",
       "    .dataframe tbody tr th {\n",
       "        vertical-align: top;\n",
       "    }\n",
       "\n",
       "    .dataframe thead th {\n",
       "        text-align: right;\n",
       "    }\n",
       "</style>\n",
       "<table border=\"1\" class=\"dataframe\">\n",
       "  <thead>\n",
       "    <tr style=\"text-align: right;\">\n",
       "      <th></th>\n",
       "      <th>_id</th>\n",
       "      <th>No</th>\n",
       "      <th>Agency</th>\n",
       "      <th>Project</th>\n",
       "      <th>Budget Year</th>\n",
       "      <th>Award</th>\n",
       "      <th>Tumbol</th>\n",
       "      <th>Amphur</th>\n",
       "      <th>Province</th>\n",
       "      <th>Postcode</th>\n",
       "      <th>Telephone</th>\n",
       "      <th>Start_Date</th>\n",
       "      <th>End_Date</th>\n",
       "    </tr>\n",
       "  </thead>\n",
       "  <tbody>\n",
       "    <tr>\n",
       "      <th>0</th>\n",
       "      <td>1</td>\n",
       "      <td>1</td>\n",
       "      <td>โรงแรมดุสิตธานี พัทยา ชลบุรี</td>\n",
       "      <td>Green Hotel</td>\n",
       "      <td>2556</td>\n",
       "      <td>ระดับดีเยี่ยม (ทอง)</td>\n",
       "      <td>นาเกลือ</td>\n",
       "      <td>บางละมุง</td>\n",
       "      <td>ชลบุรี</td>\n",
       "      <td>20150</td>\n",
       "      <td>038 425 611</td>\n",
       "      <td>2556</td>\n",
       "      <td>2558</td>\n",
       "    </tr>\n",
       "    <tr>\n",
       "      <th>1</th>\n",
       "      <td>2</td>\n",
       "      <td>2</td>\n",
       "      <td>โรงแรมสยามเบย์ ชอว์ พัทยา ชลบุรี</td>\n",
       "      <td>Green Hotel</td>\n",
       "      <td>2556</td>\n",
       "      <td>ระดับดีเยี่ยม (ทอง)</td>\n",
       "      <td></td>\n",
       "      <td>บางละมุง</td>\n",
       "      <td>ชลบุรี</td>\n",
       "      <td>20150</td>\n",
       "      <td>038 428 678</td>\n",
       "      <td>2556</td>\n",
       "      <td>2558</td>\n",
       "    </tr>\n",
       "    <tr>\n",
       "      <th>2</th>\n",
       "      <td>3</td>\n",
       "      <td>3</td>\n",
       "      <td>โรงแรมไทยการ์เด้นรีสอร์ท พัทยา ชลบุรี</td>\n",
       "      <td>Green Hotel</td>\n",
       "      <td>2556</td>\n",
       "      <td>ระดับดีเยี่ยม (ทอง)</td>\n",
       "      <td>หนองปรือ</td>\n",
       "      <td>บางละมุง</td>\n",
       "      <td>ชลบุรี</td>\n",
       "      <td>20150</td>\n",
       "      <td>038 370 614</td>\n",
       "      <td>2556</td>\n",
       "      <td>2558</td>\n",
       "    </tr>\n",
       "    <tr>\n",
       "      <th>3</th>\n",
       "      <td>4</td>\n",
       "      <td>4</td>\n",
       "      <td>โรงแรมลองบีช รีสอร์ท พัทยา ชลบุรี</td>\n",
       "      <td>Green Hotel</td>\n",
       "      <td>2556</td>\n",
       "      <td>ระดับดีเยี่ยม (ทอง)</td>\n",
       "      <td></td>\n",
       "      <td>บางละมุง</td>\n",
       "      <td>ชลบุรี</td>\n",
       "      <td>20150</td>\n",
       "      <td>038-414-616-26</td>\n",
       "      <td>2556</td>\n",
       "      <td>2558</td>\n",
       "    </tr>\n",
       "    <tr>\n",
       "      <th>4</th>\n",
       "      <td>5</td>\n",
       "      <td>5</td>\n",
       "      <td>โรงแรมบ้านอัมพวารีสอร์ทแอนด์สปา สมุทรสงคราม</td>\n",
       "      <td>Green Hotel</td>\n",
       "      <td>2556</td>\n",
       "      <td>ระดับดีเยี่ยม (ทอง)</td>\n",
       "      <td>อัมพวา</td>\n",
       "      <td>อัมพวา</td>\n",
       "      <td>สมุทรสงคราม</td>\n",
       "      <td>75110</td>\n",
       "      <td>034 752 222</td>\n",
       "      <td>2556</td>\n",
       "      <td>2558</td>\n",
       "    </tr>\n",
       "    <tr>\n",
       "      <th>5</th>\n",
       "      <td>6</td>\n",
       "      <td>6</td>\n",
       "      <td>โรงแรมบ้านทะเลดาว รีสอร์ท ประจวบคีรีขันธ์</td>\n",
       "      <td>Green Hotel</td>\n",
       "      <td>2556</td>\n",
       "      <td>ระดับดีเยี่ยม (ทอง)</td>\n",
       "      <td></td>\n",
       "      <td>หัวหิน</td>\n",
       "      <td>ประจวบคีรีขันธ์</td>\n",
       "      <td>77110</td>\n",
       "      <td>083 253 6024</td>\n",
       "      <td>2556</td>\n",
       "      <td>2558</td>\n",
       "    </tr>\n",
       "    <tr>\n",
       "      <th>6</th>\n",
       "      <td>7</td>\n",
       "      <td>7</td>\n",
       "      <td>โรงแรมบ้านบาหยัน รีสอร์ท หัวหิน ประจวบคีรีขันธ์</td>\n",
       "      <td>Green Hotel</td>\n",
       "      <td>2556</td>\n",
       "      <td>ระดับดีเยี่ยม (ทอง)</td>\n",
       "      <td></td>\n",
       "      <td>หัวหิน</td>\n",
       "      <td>ประจวบคีรีขันธ์</td>\n",
       "      <td>77110</td>\n",
       "      <td>032 533 544</td>\n",
       "      <td>2556</td>\n",
       "      <td>2558</td>\n",
       "    </tr>\n",
       "    <tr>\n",
       "      <th>7</th>\n",
       "      <td>8</td>\n",
       "      <td>8</td>\n",
       "      <td>โรงแรมสยามเคมเปนสกี้ กรุงเทพฯ</td>\n",
       "      <td>Green Hotel</td>\n",
       "      <td>2556</td>\n",
       "      <td>ระดับดีเยี่ยม (ทอง)</td>\n",
       "      <td>ปทุมวัน</td>\n",
       "      <td>ปทุมวัน</td>\n",
       "      <td>กรุงเทพมหานคร</td>\n",
       "      <td>10330</td>\n",
       "      <td>02 162 9000</td>\n",
       "      <td>2556</td>\n",
       "      <td>2558</td>\n",
       "    </tr>\n",
       "    <tr>\n",
       "      <th>8</th>\n",
       "      <td>9</td>\n",
       "      <td>9</td>\n",
       "      <td>โรงแรมอมารีดอนเมือง แอร์พอร์ต กรุงเทพฯ</td>\n",
       "      <td>Green Hotel</td>\n",
       "      <td>2556</td>\n",
       "      <td>ระดับดีเยี่ยม (ทอง)</td>\n",
       "      <td>สีกัน</td>\n",
       "      <td>ดอนเมือง</td>\n",
       "      <td>กรุงเทพมหานคร</td>\n",
       "      <td>10210</td>\n",
       "      <td>02 566 1941</td>\n",
       "      <td>2556</td>\n",
       "      <td>2558</td>\n",
       "    </tr>\n",
       "    <tr>\n",
       "      <th>9</th>\n",
       "      <td>10</td>\n",
       "      <td>10</td>\n",
       "      <td>โรงแรมสยามเบย์วิว พัทยา ชลบุรี</td>\n",
       "      <td>Green Hotel</td>\n",
       "      <td>2556</td>\n",
       "      <td>ระดับดีมาก (เงิน)</td>\n",
       "      <td>หนองปรือ</td>\n",
       "      <td>บางละมุง</td>\n",
       "      <td>ชลบุรี</td>\n",
       "      <td>20150</td>\n",
       "      <td>038 423 871</td>\n",
       "      <td>2556</td>\n",
       "      <td>2558</td>\n",
       "    </tr>\n",
       "  </tbody>\n",
       "</table>\n",
       "</div>"
      ],
      "text/plain": [
       "   _id  No                                            Agency      Project  \\\n",
       "0    1   1                      โรงแรมดุสิตธานี พัทยา ชลบุรี  Green Hotel   \n",
       "1    2   2                  โรงแรมสยามเบย์ ชอว์ พัทยา ชลบุรี  Green Hotel   \n",
       "2    3   3             โรงแรมไทยการ์เด้นรีสอร์ท พัทยา ชลบุรี  Green Hotel   \n",
       "3    4   4                 โรงแรมลองบีช รีสอร์ท พัทยา ชลบุรี  Green Hotel   \n",
       "4    5   5     โรงแรมบ้านอัมพวารีสอร์ทแอนด์สปา สมุทรสงคราม    Green Hotel   \n",
       "5    6   6         โรงแรมบ้านทะเลดาว รีสอร์ท ประจวบคีรีขันธ์  Green Hotel   \n",
       "6    7   7  โรงแรมบ้านบาหยัน รีสอร์ท หัวหิน ประจวบคีรีขันธ์   Green Hotel   \n",
       "7    8   8                     โรงแรมสยามเคมเปนสกี้ กรุงเทพฯ  Green Hotel   \n",
       "8    9   9           โรงแรมอมารีดอนเมือง แอร์พอร์ต กรุงเทพฯ   Green Hotel   \n",
       "9   10  10                    โรงแรมสยามเบย์วิว พัทยา ชลบุรี  Green Hotel   \n",
       "\n",
       "   Budget Year                Award    Tumbol    Amphur         Province  \\\n",
       "0         2556  ระดับดีเยี่ยม (ทอง)   นาเกลือ  บางละมุง           ชลบุรี   \n",
       "1         2556  ระดับดีเยี่ยม (ทอง)            บางละมุง           ชลบุรี   \n",
       "2         2556  ระดับดีเยี่ยม (ทอง)  หนองปรือ  บางละมุง           ชลบุรี   \n",
       "3         2556  ระดับดีเยี่ยม (ทอง)            บางละมุง           ชลบุรี   \n",
       "4         2556  ระดับดีเยี่ยม (ทอง)    อัมพวา    อัมพวา      สมุทรสงคราม   \n",
       "5         2556  ระดับดีเยี่ยม (ทอง)              หัวหิน  ประจวบคีรีขันธ์   \n",
       "6         2556  ระดับดีเยี่ยม (ทอง)              หัวหิน  ประจวบคีรีขันธ์   \n",
       "7         2556  ระดับดีเยี่ยม (ทอง)   ปทุมวัน   ปทุมวัน    กรุงเทพมหานคร   \n",
       "8         2556  ระดับดีเยี่ยม (ทอง)     สีกัน  ดอนเมือง    กรุงเทพมหานคร   \n",
       "9         2556    ระดับดีมาก (เงิน)  หนองปรือ  บางละมุง           ชลบุรี   \n",
       "\n",
       "  Postcode       Telephone  Start_Date  End_Date  \n",
       "0    20150     038 425 611        2556      2558  \n",
       "1    20150     038 428 678        2556      2558  \n",
       "2    20150     038 370 614        2556      2558  \n",
       "3    20150  038-414-616-26        2556      2558  \n",
       "4    75110     034 752 222        2556      2558  \n",
       "5    77110    083 253 6024        2556      2558  \n",
       "6    77110     032 533 544        2556      2558  \n",
       "7    10330     02 162 9000        2556      2558  \n",
       "8    10210     02 566 1941        2556      2558  \n",
       "9    20150     038 423 871        2556      2558  "
      ]
     },
     "execution_count": 4,
     "metadata": {},
     "output_type": "execute_result"
    }
   ],
   "source": [
    "# Request headers\n",
    "headers = {\n",
    "    \"api-key\": api_key,\n",
    "}\n",
    "\n",
    "params = {\"resource_id\": \"d13e3be5-9020-4a78-9a7e-760b2dcbf6be\", \"limit\": 10}\n",
    "r = requests.get(\n",
    "    \"https://opend.data.go.th/get-ckan/datastore_search\", params, headers=headers\n",
    ")\n",
    "if r.ok:\n",
    "    j = r.json()\n",
    "    records = j[\"result\"][\"records\"]\n",
    "df = pd.DataFrame(records)\n",
    "df\n"
   ]
  },
  {
   "cell_type": "code",
   "execution_count": null,
   "metadata": {},
   "outputs": [],
   "source": [
    "r.json()"
   ]
  }
 ],
 "metadata": {
  "kernelspec": {
   "display_name": "Python 3.9.12 ('base')",
   "language": "python",
   "name": "python3"
  },
  "language_info": {
   "codemirror_mode": {
    "name": "ipython",
    "version": 3
   },
   "file_extension": ".py",
   "mimetype": "text/x-python",
   "name": "python",
   "nbconvert_exporter": "python",
   "pygments_lexer": "ipython3",
   "version": "3.9.12"
  },
  "vscode": {
   "interpreter": {
    "hash": "629cb9f199f624aadf5cdcebfeb0fdc9652b7a7e432d484384b677cab7914fce"
   }
  },
  "widgets": {
   "application/vnd.jupyter.widget-state+json": {
    "state": {},
    "version_major": 2,
    "version_minor": 0
   }
  }
 },
 "nbformat": 4,
 "nbformat_minor": 4
}
